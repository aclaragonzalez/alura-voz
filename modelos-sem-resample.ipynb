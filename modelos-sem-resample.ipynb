{
  "cells": [
    {
      "cell_type": "markdown",
      "metadata": {
        "colab_type": "text",
        "id": "view-in-github"
      },
      "source": [
        "<a href=\"https://colab.research.google.com/github/aclaragonzalez/alura-voz/blob/main/modelos.ipynb\" target=\"_parent\"><img src=\"https://colab.research.google.com/assets/colab-badge.svg\" alt=\"Open In Colab\"/></a>"
      ]
    },
    {
      "cell_type": "markdown",
      "id": "272c2154",
      "metadata": {
        "id": "272c2154"
      },
      "source": [
        "# **Importando os dados**"
      ]
    },
    {
      "cell_type": "code",
      "execution_count": 12,
      "id": "1f09c9ae",
      "metadata": {
        "id": "1f09c9ae"
      },
      "outputs": [],
      "source": [
        "# importando as bibliotecas\n",
        "import pandas as pd\n",
        "import seaborn as sns\n",
        "import numpy as np\n",
        "from sklearn.model_selection import train_test_split\n",
        "from sklearn.metrics import confusion_matrix, accuracy_score, precision_score, recall_score, f1_score\n",
        "from sklearn.preprocessing import OneHotEncoder\n",
        "from sklearn.svm import SVC\n",
        "from sklearn.tree import DecisionTreeClassifier\n",
        "from sklearn.ensemble import RandomForestClassifier"
      ]
    },
    {
      "cell_type": "code",
      "execution_count": 13,
      "id": "f8826cfc",
      "metadata": {
        "id": "f8826cfc"
      },
      "outputs": [],
      "source": [
        "# estabelecendo o tema dos gráficos a serem plotados\n",
        "sns.set_theme(style=\"darkgrid\", palette=\"Paired\", font_scale=1.2, rc={\"figure.figsize\":(13, 6)})"
      ]
    },
    {
      "cell_type": "code",
      "execution_count": 14,
      "id": "ea1bf9e4",
      "metadata": {
        "id": "ea1bf9e4"
      },
      "outputs": [],
      "source": [
        "# leitura do arquivo csv que contem os dados\n",
        "dados = pd.read_csv('./dados/alura-voz-vf.csv')"
      ]
    },
    {
      "cell_type": "code",
      "execution_count": 15,
      "id": "53c1b1b9",
      "metadata": {
        "id": "53c1b1b9",
        "outputId": "c1ef5d58-9a62-40bb-efb0-4cf7abc29ad1"
      },
      "outputs": [
        {
          "data": {
            "text/html": [
              "<div>\n",
              "<style scoped>\n",
              "    .dataframe tbody tr th:only-of-type {\n",
              "        vertical-align: middle;\n",
              "    }\n",
              "\n",
              "    .dataframe tbody tr th {\n",
              "        vertical-align: top;\n",
              "    }\n",
              "\n",
              "    .dataframe thead th {\n",
              "        text-align: right;\n",
              "    }\n",
              "</style>\n",
              "<table border=\"1\" class=\"dataframe\">\n",
              "  <thead>\n",
              "    <tr style=\"text-align: right;\">\n",
              "      <th></th>\n",
              "      <th>clienteID</th>\n",
              "      <th>Cancelado</th>\n",
              "      <th>Gênero</th>\n",
              "      <th>Idoso</th>\n",
              "      <th>Cônjuge</th>\n",
              "      <th>Dependentes</th>\n",
              "      <th>Vigência</th>\n",
              "      <th>Serviço.Telefonico</th>\n",
              "      <th>Múltiplas.Linhas</th>\n",
              "      <th>Serviço.Internet</th>\n",
              "      <th>...</th>\n",
              "      <th>Proteção.Dispositivo</th>\n",
              "      <th>Suporte.Técnico</th>\n",
              "      <th>assinatura.TV</th>\n",
              "      <th>assinatura.Filmes</th>\n",
              "      <th>Contrato</th>\n",
              "      <th>Fatura.Digital</th>\n",
              "      <th>Método.Pagamento</th>\n",
              "      <th>Valor.Diário</th>\n",
              "      <th>Valor.Mensal</th>\n",
              "      <th>Valor.Total</th>\n",
              "    </tr>\n",
              "  </thead>\n",
              "  <tbody>\n",
              "    <tr>\n",
              "      <th>0</th>\n",
              "      <td>0002-ORFBO</td>\n",
              "      <td>Não</td>\n",
              "      <td>Feminino</td>\n",
              "      <td>Não</td>\n",
              "      <td>Sim</td>\n",
              "      <td>Sim</td>\n",
              "      <td>9</td>\n",
              "      <td>Sim</td>\n",
              "      <td>Não</td>\n",
              "      <td>DSL</td>\n",
              "      <td>...</td>\n",
              "      <td>Não</td>\n",
              "      <td>Sim</td>\n",
              "      <td>Sim</td>\n",
              "      <td>Não</td>\n",
              "      <td>Anual</td>\n",
              "      <td>Sim</td>\n",
              "      <td>Cheque via postal</td>\n",
              "      <td>19.78</td>\n",
              "      <td>65.6</td>\n",
              "      <td>593.30</td>\n",
              "    </tr>\n",
              "    <tr>\n",
              "      <th>1</th>\n",
              "      <td>0003-MKNFE</td>\n",
              "      <td>Não</td>\n",
              "      <td>Masculino</td>\n",
              "      <td>Não</td>\n",
              "      <td>Não</td>\n",
              "      <td>Não</td>\n",
              "      <td>9</td>\n",
              "      <td>Sim</td>\n",
              "      <td>Sim</td>\n",
              "      <td>DSL</td>\n",
              "      <td>...</td>\n",
              "      <td>Não</td>\n",
              "      <td>Não</td>\n",
              "      <td>Não</td>\n",
              "      <td>Sim</td>\n",
              "      <td>Mensal</td>\n",
              "      <td>Não</td>\n",
              "      <td>Cheque via postal</td>\n",
              "      <td>18.08</td>\n",
              "      <td>59.9</td>\n",
              "      <td>542.40</td>\n",
              "    </tr>\n",
              "    <tr>\n",
              "      <th>2</th>\n",
              "      <td>0004-TLHLJ</td>\n",
              "      <td>Sim</td>\n",
              "      <td>Masculino</td>\n",
              "      <td>Não</td>\n",
              "      <td>Não</td>\n",
              "      <td>Não</td>\n",
              "      <td>4</td>\n",
              "      <td>Sim</td>\n",
              "      <td>Não</td>\n",
              "      <td>Fibra óptica</td>\n",
              "      <td>...</td>\n",
              "      <td>Sim</td>\n",
              "      <td>Não</td>\n",
              "      <td>Não</td>\n",
              "      <td>Não</td>\n",
              "      <td>Mensal</td>\n",
              "      <td>Sim</td>\n",
              "      <td>Cheque eletrônico</td>\n",
              "      <td>9.36</td>\n",
              "      <td>73.9</td>\n",
              "      <td>280.85</td>\n",
              "    </tr>\n",
              "    <tr>\n",
              "      <th>3</th>\n",
              "      <td>0011-IGKFF</td>\n",
              "      <td>Sim</td>\n",
              "      <td>Masculino</td>\n",
              "      <td>Sim</td>\n",
              "      <td>Sim</td>\n",
              "      <td>Não</td>\n",
              "      <td>13</td>\n",
              "      <td>Sim</td>\n",
              "      <td>Não</td>\n",
              "      <td>Fibra óptica</td>\n",
              "      <td>...</td>\n",
              "      <td>Sim</td>\n",
              "      <td>Não</td>\n",
              "      <td>Sim</td>\n",
              "      <td>Sim</td>\n",
              "      <td>Mensal</td>\n",
              "      <td>Sim</td>\n",
              "      <td>Cheque eletrônico</td>\n",
              "      <td>41.26</td>\n",
              "      <td>98.0</td>\n",
              "      <td>1237.85</td>\n",
              "    </tr>\n",
              "    <tr>\n",
              "      <th>4</th>\n",
              "      <td>0013-EXCHZ</td>\n",
              "      <td>Sim</td>\n",
              "      <td>Feminino</td>\n",
              "      <td>Sim</td>\n",
              "      <td>Sim</td>\n",
              "      <td>Não</td>\n",
              "      <td>3</td>\n",
              "      <td>Sim</td>\n",
              "      <td>Não</td>\n",
              "      <td>Fibra óptica</td>\n",
              "      <td>...</td>\n",
              "      <td>Não</td>\n",
              "      <td>Sim</td>\n",
              "      <td>Sim</td>\n",
              "      <td>Não</td>\n",
              "      <td>Mensal</td>\n",
              "      <td>Sim</td>\n",
              "      <td>Cheque via postal</td>\n",
              "      <td>8.91</td>\n",
              "      <td>83.9</td>\n",
              "      <td>267.40</td>\n",
              "    </tr>\n",
              "  </tbody>\n",
              "</table>\n",
              "<p>5 rows × 22 columns</p>\n",
              "</div>"
            ],
            "text/plain": [
              "    clienteID Cancelado     Gênero Idoso Cônjuge Dependentes  Vigência  \\\n",
              "0  0002-ORFBO       Não   Feminino   Não     Sim         Sim         9   \n",
              "1  0003-MKNFE       Não  Masculino   Não     Não         Não         9   \n",
              "2  0004-TLHLJ       Sim  Masculino   Não     Não         Não         4   \n",
              "3  0011-IGKFF       Sim  Masculino   Sim     Sim         Não        13   \n",
              "4  0013-EXCHZ       Sim   Feminino   Sim     Sim         Não         3   \n",
              "\n",
              "  Serviço.Telefonico Múltiplas.Linhas Serviço.Internet  ...  \\\n",
              "0                Sim              Não              DSL  ...   \n",
              "1                Sim              Sim              DSL  ...   \n",
              "2                Sim              Não     Fibra óptica  ...   \n",
              "3                Sim              Não     Fibra óptica  ...   \n",
              "4                Sim              Não     Fibra óptica  ...   \n",
              "\n",
              "  Proteção.Dispositivo Suporte.Técnico assinatura.TV assinatura.Filmes  \\\n",
              "0                  Não             Sim           Sim               Não   \n",
              "1                  Não             Não           Não               Sim   \n",
              "2                  Sim             Não           Não               Não   \n",
              "3                  Sim             Não           Sim               Sim   \n",
              "4                  Não             Sim           Sim               Não   \n",
              "\n",
              "  Contrato Fatura.Digital   Método.Pagamento Valor.Diário Valor.Mensal  \\\n",
              "0    Anual            Sim  Cheque via postal        19.78         65.6   \n",
              "1   Mensal            Não  Cheque via postal        18.08         59.9   \n",
              "2   Mensal            Sim  Cheque eletrônico         9.36         73.9   \n",
              "3   Mensal            Sim  Cheque eletrônico        41.26         98.0   \n",
              "4   Mensal            Sim  Cheque via postal         8.91         83.9   \n",
              "\n",
              "   Valor.Total  \n",
              "0       593.30  \n",
              "1       542.40  \n",
              "2       280.85  \n",
              "3      1237.85  \n",
              "4       267.40  \n",
              "\n",
              "[5 rows x 22 columns]"
            ]
          },
          "execution_count": 15,
          "metadata": {},
          "output_type": "execute_result"
        }
      ],
      "source": [
        "# apresentando as primeiras cinco linhas do dataframe\n",
        "dados.head()"
      ]
    },
    {
      "cell_type": "markdown",
      "id": "3fea1cc9",
      "metadata": {
        "id": "3fea1cc9"
      },
      "source": [
        "# **Aplicando encoder**"
      ]
    },
    {
      "cell_type": "markdown",
      "id": "074d733c",
      "metadata": {
        "id": "074d733c"
      },
      "source": [
        "É preciso remover algumas colunas que não são tão importantes para a análise que desejamos realizar. Existem três colunas que não são interessantes para a análise e que serão removidas:\n",
        "\n",
        "* Coluna clienteID: Seu valor é único para cada linha e não nos traz informação relevante para uma análise, então podemos retirá-la;\n",
        "\n",
        "* Coluna Valor.Total: essa coluna contém informações dos meses de Valor.Mensal multiplicado pela Vigência do contrato, então é uma informação \"duplicada\"; e\n",
        "\n",
        "* Coluna Valor.Diário: essa coluna contém também informações \"duplicadas\", visto que foi obtida a partir da divisão do Valor.Total por dias de contrato (Valor.Mensal dividido por 30)"
      ]
    },
    {
      "cell_type": "code",
      "execution_count": 16,
      "id": "722d9864",
      "metadata": {
        "id": "722d9864"
      },
      "outputs": [],
      "source": [
        "dados.drop(['clienteID', 'Valor.Total', 'Valor.Diário'], axis=1, inplace=True)"
      ]
    },
    {
      "cell_type": "markdown",
      "id": "85227b32",
      "metadata": {
        "id": "85227b32"
      },
      "source": [
        "Conforme verificado anteriormente, algumas colunas possuem dados como \"Sem serviço telefônico\" e \"Sem serviço de internet\". Vamos relembrar:"
      ]
    },
    {
      "cell_type": "code",
      "execution_count": 17,
      "id": "a7a7bea8",
      "metadata": {
        "id": "a7a7bea8",
        "outputId": "d3130096-a0ff-4a1b-abce-b4df16f30e6d"
      },
      "outputs": [
        {
          "name": "stdout",
          "output_type": "stream",
          "text": [
            "Dados que podem ser encontrados da coluna Cancelado:\n",
            "['Não' 'Sim']\n",
            " \n",
            "------------------------------------------\n",
            " \n",
            "Dados que podem ser encontrados da coluna Gênero:\n",
            "['Feminino' 'Masculino']\n",
            " \n",
            "------------------------------------------\n",
            " \n",
            "Dados que podem ser encontrados da coluna Idoso:\n",
            "['Não' 'Sim']\n",
            " \n",
            "------------------------------------------\n",
            " \n",
            "Dados que podem ser encontrados da coluna Cônjuge:\n",
            "['Sim' 'Não']\n",
            " \n",
            "------------------------------------------\n",
            " \n",
            "Dados que podem ser encontrados da coluna Dependentes:\n",
            "['Sim' 'Não']\n",
            " \n",
            "------------------------------------------\n",
            " \n",
            "Dados que podem ser encontrados da coluna Vigência:\n",
            "[ 9  4 13  3 71 63  7 65 54 72  5 56 34  1 45 50 23 55 26 69 37 49 66 67\n",
            " 20 43 59 12 27  2 25 29 14 35 64 39 40 11  6 30 70 57 58 16 32 33 10 21\n",
            " 61 15 44 22 24 19 47 62 46 52  8 60 48 28 41 53 68 31 36 17 18 51 38 42\n",
            "  0]\n",
            " \n",
            "------------------------------------------\n",
            " \n",
            "Dados que podem ser encontrados da coluna Serviço.Telefonico:\n",
            "['Sim' 'Não']\n",
            " \n",
            "------------------------------------------\n",
            " \n",
            "Dados que podem ser encontrados da coluna Múltiplas.Linhas:\n",
            "['Não' 'Sim' 'Sem serviço telefônico']\n",
            " \n",
            "------------------------------------------\n",
            " \n",
            "Dados que podem ser encontrados da coluna Serviço.Internet:\n",
            "['DSL' 'Fibra óptica' 'Não']\n",
            " \n",
            "------------------------------------------\n",
            " \n",
            "Dados que podem ser encontrados da coluna Segurança.Online:\n",
            "['Não' 'Sim' 'Sem serviço de internet']\n",
            " \n",
            "------------------------------------------\n",
            " \n",
            "Dados que podem ser encontrados da coluna Backup.Virtual:\n",
            "['Sim' 'Não' 'Sem serviço de internet']\n",
            " \n",
            "------------------------------------------\n",
            " \n",
            "Dados que podem ser encontrados da coluna Proteção.Dispositivo:\n",
            "['Não' 'Sim' 'Sem serviço de internet']\n",
            " \n",
            "------------------------------------------\n",
            " \n",
            "Dados que podem ser encontrados da coluna Suporte.Técnico:\n",
            "['Sim' 'Não' 'Sem serviço de internet']\n",
            " \n",
            "------------------------------------------\n",
            " \n",
            "Dados que podem ser encontrados da coluna assinatura.TV:\n",
            "['Sim' 'Não' 'Sem serviço de internet']\n",
            " \n",
            "------------------------------------------\n",
            " \n",
            "Dados que podem ser encontrados da coluna assinatura.Filmes:\n",
            "['Não' 'Sim' 'Sem serviço de internet']\n",
            " \n",
            "------------------------------------------\n",
            " \n",
            "Dados que podem ser encontrados da coluna Contrato:\n",
            "['Anual' 'Mensal' 'Bienal']\n",
            " \n",
            "------------------------------------------\n",
            " \n",
            "Dados que podem ser encontrados da coluna Fatura.Digital:\n",
            "['Sim' 'Não']\n",
            " \n",
            "------------------------------------------\n",
            " \n",
            "Dados que podem ser encontrados da coluna Método.Pagamento:\n",
            "['Cheque via postal' 'Cheque eletrônico' 'Cartão de crédito'\n",
            " 'Transferência bancária']\n",
            " \n",
            "------------------------------------------\n",
            " \n",
            "Dados que podem ser encontrados da coluna Valor.Mensal:\n",
            "[65.6  59.9  73.9  ... 91.75 68.8  67.85]\n",
            " \n",
            "------------------------------------------\n",
            " \n"
          ]
        }
      ],
      "source": [
        "# verificando os dados em cada coluna\n",
        "\n",
        "for column in dados.columns.tolist():\n",
        "    print('Dados que podem ser encontrados da coluna %s:' % column)\n",
        "    print(dados[column].unique())\n",
        "    print(' ')\n",
        "    print('------------------------------------------')\n",
        "    print(' ')"
      ]
    },
    {
      "cell_type": "markdown",
      "id": "61c3245f",
      "metadata": {
        "id": "61c3245f"
      },
      "source": [
        "Para as colunas com \"Sem serviço de internet\" e \"Sem serviço telefônico\", vamos considerar apenas como \"Não\" para evitar informações duplicadas. As colunas 'Método.Pagamento', 'Contrato' e 'Serviço.Internet' possuem mais de 2 categorias e por conta disso, faremos encoding para os dados dessas colunas."
      ]
    },
    {
      "cell_type": "code",
      "execution_count": 18,
      "id": "348a1ec6",
      "metadata": {
        "id": "348a1ec6"
      },
      "outputs": [],
      "source": [
        "colunas = ['Método.Pagamento', 'Contrato', 'Serviço.Internet']"
      ]
    },
    {
      "cell_type": "code",
      "execution_count": 19,
      "id": "97ca34e6",
      "metadata": {
        "id": "97ca34e6"
      },
      "outputs": [],
      "source": [
        "dados2 = dados.drop(colunas, axis=1)"
      ]
    },
    {
      "cell_type": "code",
      "execution_count": 20,
      "id": "229a7985",
      "metadata": {
        "id": "229a7985"
      },
      "outputs": [],
      "source": [
        "dicionario = {'Sem serviço de internet':0,\n",
        "              'Sem serviço telefônico': 0,\n",
        "              'Não': 0,\n",
        "              'Sim': 1,\n",
        "              'Masculino':0,\n",
        "              'Feminino':1}"
      ]
    },
    {
      "cell_type": "code",
      "execution_count": 21,
      "id": "45c89a8c",
      "metadata": {
        "id": "45c89a8c"
      },
      "outputs": [],
      "source": [
        "dados2 = dados2.replace(dicionario)"
      ]
    },
    {
      "cell_type": "code",
      "execution_count": 22,
      "id": "90436ec5",
      "metadata": {
        "id": "90436ec5"
      },
      "outputs": [],
      "source": [
        "ohe = OneHotEncoder(dtype=int)\n",
        "\n",
        "colunas_ohe = ohe.fit_transform(dados[colunas]).toarray()\n",
        "dados3 = pd.concat([dados2, pd.DataFrame(colunas_ohe, columns=ohe.get_feature_names_out(colunas))], axis=1)"
      ]
    },
    {
      "cell_type": "code",
      "execution_count": 23,
      "id": "068a5ded",
      "metadata": {
        "id": "068a5ded",
        "outputId": "a3c03b49-831f-49f7-97a9-d1c6dbf41524"
      },
      "outputs": [
        {
          "data": {
            "text/html": [
              "<div>\n",
              "<style scoped>\n",
              "    .dataframe tbody tr th:only-of-type {\n",
              "        vertical-align: middle;\n",
              "    }\n",
              "\n",
              "    .dataframe tbody tr th {\n",
              "        vertical-align: top;\n",
              "    }\n",
              "\n",
              "    .dataframe thead th {\n",
              "        text-align: right;\n",
              "    }\n",
              "</style>\n",
              "<table border=\"1\" class=\"dataframe\">\n",
              "  <thead>\n",
              "    <tr style=\"text-align: right;\">\n",
              "      <th></th>\n",
              "      <th>Cancelado</th>\n",
              "      <th>Gênero</th>\n",
              "      <th>Idoso</th>\n",
              "      <th>Cônjuge</th>\n",
              "      <th>Dependentes</th>\n",
              "      <th>Vigência</th>\n",
              "      <th>Serviço.Telefonico</th>\n",
              "      <th>Múltiplas.Linhas</th>\n",
              "      <th>Segurança.Online</th>\n",
              "      <th>Backup.Virtual</th>\n",
              "      <th>...</th>\n",
              "      <th>Método.Pagamento_Cartão de crédito</th>\n",
              "      <th>Método.Pagamento_Cheque eletrônico</th>\n",
              "      <th>Método.Pagamento_Cheque via postal</th>\n",
              "      <th>Método.Pagamento_Transferência bancária</th>\n",
              "      <th>Contrato_Anual</th>\n",
              "      <th>Contrato_Bienal</th>\n",
              "      <th>Contrato_Mensal</th>\n",
              "      <th>Serviço.Internet_DSL</th>\n",
              "      <th>Serviço.Internet_Fibra óptica</th>\n",
              "      <th>Serviço.Internet_Não</th>\n",
              "    </tr>\n",
              "  </thead>\n",
              "  <tbody>\n",
              "    <tr>\n",
              "      <th>0</th>\n",
              "      <td>0</td>\n",
              "      <td>1</td>\n",
              "      <td>0</td>\n",
              "      <td>1</td>\n",
              "      <td>1</td>\n",
              "      <td>9</td>\n",
              "      <td>1</td>\n",
              "      <td>0</td>\n",
              "      <td>0</td>\n",
              "      <td>1</td>\n",
              "      <td>...</td>\n",
              "      <td>0</td>\n",
              "      <td>0</td>\n",
              "      <td>1</td>\n",
              "      <td>0</td>\n",
              "      <td>1</td>\n",
              "      <td>0</td>\n",
              "      <td>0</td>\n",
              "      <td>1</td>\n",
              "      <td>0</td>\n",
              "      <td>0</td>\n",
              "    </tr>\n",
              "    <tr>\n",
              "      <th>1</th>\n",
              "      <td>0</td>\n",
              "      <td>0</td>\n",
              "      <td>0</td>\n",
              "      <td>0</td>\n",
              "      <td>0</td>\n",
              "      <td>9</td>\n",
              "      <td>1</td>\n",
              "      <td>1</td>\n",
              "      <td>0</td>\n",
              "      <td>0</td>\n",
              "      <td>...</td>\n",
              "      <td>0</td>\n",
              "      <td>0</td>\n",
              "      <td>1</td>\n",
              "      <td>0</td>\n",
              "      <td>0</td>\n",
              "      <td>0</td>\n",
              "      <td>1</td>\n",
              "      <td>1</td>\n",
              "      <td>0</td>\n",
              "      <td>0</td>\n",
              "    </tr>\n",
              "    <tr>\n",
              "      <th>2</th>\n",
              "      <td>1</td>\n",
              "      <td>0</td>\n",
              "      <td>0</td>\n",
              "      <td>0</td>\n",
              "      <td>0</td>\n",
              "      <td>4</td>\n",
              "      <td>1</td>\n",
              "      <td>0</td>\n",
              "      <td>0</td>\n",
              "      <td>0</td>\n",
              "      <td>...</td>\n",
              "      <td>0</td>\n",
              "      <td>1</td>\n",
              "      <td>0</td>\n",
              "      <td>0</td>\n",
              "      <td>0</td>\n",
              "      <td>0</td>\n",
              "      <td>1</td>\n",
              "      <td>0</td>\n",
              "      <td>1</td>\n",
              "      <td>0</td>\n",
              "    </tr>\n",
              "    <tr>\n",
              "      <th>3</th>\n",
              "      <td>1</td>\n",
              "      <td>0</td>\n",
              "      <td>1</td>\n",
              "      <td>1</td>\n",
              "      <td>0</td>\n",
              "      <td>13</td>\n",
              "      <td>1</td>\n",
              "      <td>0</td>\n",
              "      <td>0</td>\n",
              "      <td>1</td>\n",
              "      <td>...</td>\n",
              "      <td>0</td>\n",
              "      <td>1</td>\n",
              "      <td>0</td>\n",
              "      <td>0</td>\n",
              "      <td>0</td>\n",
              "      <td>0</td>\n",
              "      <td>1</td>\n",
              "      <td>0</td>\n",
              "      <td>1</td>\n",
              "      <td>0</td>\n",
              "    </tr>\n",
              "    <tr>\n",
              "      <th>4</th>\n",
              "      <td>1</td>\n",
              "      <td>1</td>\n",
              "      <td>1</td>\n",
              "      <td>1</td>\n",
              "      <td>0</td>\n",
              "      <td>3</td>\n",
              "      <td>1</td>\n",
              "      <td>0</td>\n",
              "      <td>0</td>\n",
              "      <td>0</td>\n",
              "      <td>...</td>\n",
              "      <td>0</td>\n",
              "      <td>0</td>\n",
              "      <td>1</td>\n",
              "      <td>0</td>\n",
              "      <td>0</td>\n",
              "      <td>0</td>\n",
              "      <td>1</td>\n",
              "      <td>0</td>\n",
              "      <td>1</td>\n",
              "      <td>0</td>\n",
              "    </tr>\n",
              "  </tbody>\n",
              "</table>\n",
              "<p>5 rows × 26 columns</p>\n",
              "</div>"
            ],
            "text/plain": [
              "   Cancelado  Gênero  Idoso  Cônjuge  Dependentes  Vigência  \\\n",
              "0          0       1      0        1            1         9   \n",
              "1          0       0      0        0            0         9   \n",
              "2          1       0      0        0            0         4   \n",
              "3          1       0      1        1            0        13   \n",
              "4          1       1      1        1            0         3   \n",
              "\n",
              "   Serviço.Telefonico  Múltiplas.Linhas  Segurança.Online  Backup.Virtual  \\\n",
              "0                   1                 0                 0               1   \n",
              "1                   1                 1                 0               0   \n",
              "2                   1                 0                 0               0   \n",
              "3                   1                 0                 0               1   \n",
              "4                   1                 0                 0               0   \n",
              "\n",
              "   ...  Método.Pagamento_Cartão de crédito  \\\n",
              "0  ...                                   0   \n",
              "1  ...                                   0   \n",
              "2  ...                                   0   \n",
              "3  ...                                   0   \n",
              "4  ...                                   0   \n",
              "\n",
              "   Método.Pagamento_Cheque eletrônico  Método.Pagamento_Cheque via postal  \\\n",
              "0                                   0                                   1   \n",
              "1                                   0                                   1   \n",
              "2                                   1                                   0   \n",
              "3                                   1                                   0   \n",
              "4                                   0                                   1   \n",
              "\n",
              "   Método.Pagamento_Transferência bancária  Contrato_Anual  Contrato_Bienal  \\\n",
              "0                                        0               1                0   \n",
              "1                                        0               0                0   \n",
              "2                                        0               0                0   \n",
              "3                                        0               0                0   \n",
              "4                                        0               0                0   \n",
              "\n",
              "   Contrato_Mensal  Serviço.Internet_DSL  Serviço.Internet_Fibra óptica  \\\n",
              "0                0                     1                              0   \n",
              "1                1                     1                              0   \n",
              "2                1                     0                              1   \n",
              "3                1                     0                              1   \n",
              "4                1                     0                              1   \n",
              "\n",
              "   Serviço.Internet_Não  \n",
              "0                     0  \n",
              "1                     0  \n",
              "2                     0  \n",
              "3                     0  \n",
              "4                     0  \n",
              "\n",
              "[5 rows x 26 columns]"
            ]
          },
          "execution_count": 23,
          "metadata": {},
          "output_type": "execute_result"
        }
      ],
      "source": [
        "dados3.head()"
      ]
    },
    {
      "cell_type": "markdown",
      "id": "dd89c507",
      "metadata": {
        "id": "dd89c507"
      },
      "source": [
        "Agora, temos dados apenas com valores numéricos."
      ]
    },
    {
      "cell_type": "markdown",
      "id": "2404abf6",
      "metadata": {
        "id": "2404abf6"
      },
      "source": [
        "# **Balanceamento dos dados**"
      ]
    },
    {
      "cell_type": "code",
      "execution_count": 24,
      "id": "63348ffd",
      "metadata": {
        "id": "63348ffd",
        "outputId": "ec2e8b84-3c11-493b-cd8b-f1f7e547ab20"
      },
      "outputs": [
        {
          "data": {
            "text/plain": [
              "[Text(0.5, 1.0, 'Distribuição da variável Cancelado')]"
            ]
          },
          "execution_count": 24,
          "metadata": {},
          "output_type": "execute_result"
        },
        {
          "data": {
            "image/png": "[encoded data removed]",
            "text/plain": [
              "<Figure size 1300x600 with 1 Axes>"
            ]
          },
          "metadata": {},
          "output_type": "display_data"
        }
      ],
      "source": [
        "# plotando gráfico de Cancelado\n",
        "sns.countplot(x='Cancelado', data=dados3).set(title='Distribuição da variável Cancelado')"
      ]
    },
    {
      "cell_type": "markdown",
      "id": "1db217ef",
      "metadata": {
        "id": "1db217ef"
      },
      "source": [
        "Percebemos pelo gráfico acima que o conjunto de dados possui o alvo (coluna 'Cancelado') desbalanceado, caso o modelo seja criado com a variável dessa forma poderá prejudicar o aprendizados e os resultados.\n",
        "\n",
        "Anteriormente, havia sido realizado um balanceamento dos dados com o método SMOTE da biblioteca imblearn. Mas agora iremos refazer o treinamento dos modelos sem esse balanceamento e ver como os modelos se comportam."
      ]
    },
    {
      "cell_type": "code",
      "execution_count": 25,
      "id": "7764fdfa",
      "metadata": {
        "id": "7764fdfa"
      },
      "outputs": [],
      "source": [
        "X = dados3.drop(['Cancelado'], axis = 1)\n",
        "y = dados3['Cancelado']"
      ]
    },
    {
      "cell_type": "markdown",
      "id": "47b29978",
      "metadata": {
        "id": "47b29978"
      },
      "source": [
        "# **Aplicando os modelos de Classificação**"
      ]
    },
    {
      "cell_type": "code",
      "execution_count": 26,
      "id": "a82c91b3",
      "metadata": {
        "id": "a82c91b3"
      },
      "outputs": [],
      "source": [
        "# separando os dados em treino e teste\n",
        "X_treino, X_teste, y_treino, y_teste = train_test_split(X , y, random_state=42)"
      ]
    },
    {
      "cell_type": "markdown",
      "id": "4db55156",
      "metadata": {
        "id": "4db55156"
      },
      "source": [
        "## SVC"
      ]
    },
    {
      "cell_type": "code",
      "execution_count": 27,
      "id": "d81c3f9e",
      "metadata": {
        "id": "d81c3f9e"
      },
      "outputs": [],
      "source": [
        "# treinando o modelo SVC\n",
        "svc = SVC(random_state=42)\n",
        "svc.fit(X_treino, y_treino)\n",
        "y_pred_svc = svc.predict(X_teste)"
      ]
    },
    {
      "cell_type": "code",
      "execution_count": 28,
      "id": "e623efce",
      "metadata": {
        "id": "e623efce",
        "outputId": "056897aa-cb0b-43ee-d6f7-eada43c0de0b"
      },
      "outputs": [
        {
          "data": {
            "text/plain": [
              "[Text(0.5, 29.249999999999986, 'Valores verdadeiros'),\n",
              " Text(125.74999999999999, 0.5, 'Valores preditos')]"
            ]
          },
          "execution_count": 28,
          "metadata": {},
          "output_type": "execute_result"
        },
        {
          "data": {
            "image/png": "[encoded data removed]",
            "text/plain": [
              "<Figure size 1300x600 with 2 Axes>"
            ]
          },
          "metadata": {},
          "output_type": "display_data"
        }
      ],
      "source": [
        "# obtendo matriz de confusão para SVC\n",
        "cf_matrix = confusion_matrix(y_teste, y_pred_svc)\n",
        "group_names = [\"True Neg\",\"False Pos\",\"False Neg\",\"True Pos\"]\n",
        "group_counts = ['{0:0.0f}'.format(value) for value in cf_matrix.flatten()]\n",
        "labels = [f'{v1}\\n{v2}' for v1, v2 in zip(group_names,group_counts)]\n",
        "labels = np.asarray(labels).reshape(2,2)\n",
        "categories = [\"Não Cancelado\", \"Cancelado\"]\n",
        "sns.heatmap(cf_matrix, annot=labels, fmt='', cmap='YlGnBu').set(xlabel='Valores verdadeiros', ylabel='Valores preditos')"
      ]
    },
    {
      "cell_type": "code",
      "execution_count": 29,
      "id": "c48fad75",
      "metadata": {
        "id": "c48fad75"
      },
      "outputs": [],
      "source": [
        "# obtendo métricas para SVC\n",
        "acuracia_svc = accuracy_score(y_teste, y_pred_svc)\n",
        "precision_svc = precision_score(y_teste, y_pred_svc)\n",
        "recall_svc = recall_score(y_teste, y_pred_svc)\n",
        "f1_svc = f1_score(y_teste, y_pred_svc)\n",
        "\n",
        "y_pred_treino_svc = svc.predict(X_treino)\n",
        "acuracia_treino_svc = accuracy_score(y_treino, y_pred_treino_svc)"
      ]
    },
    {
      "cell_type": "markdown",
      "id": "04eada37",
      "metadata": {
        "id": "04eada37"
      },
      "source": [
        "## Decision Tree"
      ]
    },
    {
      "cell_type": "code",
      "execution_count": 30,
      "id": "1966f430",
      "metadata": {
        "id": "1966f430"
      },
      "outputs": [],
      "source": [
        "# treinando o modelo DTree\n",
        "dtree = DecisionTreeClassifier(max_depth=5, random_state = 42)\n",
        "dtree.fit(X_treino, y_treino)\n",
        "y_pred_dt = dtree.predict(X_teste)"
      ]
    },
    {
      "cell_type": "code",
      "execution_count": 31,
      "id": "905ab6f1",
      "metadata": {
        "id": "905ab6f1",
        "outputId": "34aeb31e-c711-4469-e795-2f30708f2e98"
      },
      "outputs": [
        {
          "data": {
            "text/plain": [
              "<Axes: >"
            ]
          },
          "execution_count": 31,
          "metadata": {},
          "output_type": "execute_result"
        },
        {
          "data": {
            "image/png": "[encoded data removed]",
            "text/plain": [
              "<Figure size 1300x600 with 2 Axes>"
            ]
          },
          "metadata": {},
          "output_type": "display_data"
        }
      ],
      "source": [
        "# obtendo matriz de confusão para DTree\n",
        "cf_matrix = confusion_matrix(y_teste, y_pred_dt)\n",
        "group_names = [\"True Neg\",\"False Pos\",\"False Neg\",\"True Pos\"]\n",
        "group_counts = ['{0:0.0f}'.format(value) for value in cf_matrix.flatten()]\n",
        "labels = [f'{v1}\\n{v2}' for v1, v2 in zip(group_names,group_counts)]\n",
        "labels = np.asarray(labels).reshape(2,2)\n",
        "categories = [\"Não Cancelado\", \"Cancelado\"]\n",
        "sns.heatmap(cf_matrix, annot=labels, fmt='', cmap='YlGnBu')"
      ]
    },
    {
      "cell_type": "code",
      "execution_count": 32,
      "id": "4d5047b1",
      "metadata": {
        "id": "4d5047b1"
      },
      "outputs": [],
      "source": [
        "# Obtendo métricas para DTree\n",
        "acuracia_dt = accuracy_score(y_teste, y_pred_dt)\n",
        "precision_dt = precision_score(y_teste, y_pred_dt)\n",
        "recall_dt = recall_score(y_teste, y_pred_dt)\n",
        "f1_dt = f1_score(y_teste, y_pred_dt)\n",
        "\n",
        "y_pred_treino_dt = dtree.predict(X_treino)\n",
        "acuracia_treino_dt = accuracy_score(y_treino, y_pred_treino_dt)"
      ]
    },
    {
      "cell_type": "markdown",
      "id": "893515c1",
      "metadata": {
        "id": "893515c1"
      },
      "source": [
        "## Random Forest"
      ]
    },
    {
      "cell_type": "code",
      "execution_count": 33,
      "id": "885a2dad",
      "metadata": {
        "id": "885a2dad"
      },
      "outputs": [],
      "source": [
        "# treinando o modelo RForest\n",
        "rforest = RandomForestClassifier(max_depth = 5, random_state=42)\n",
        "rforest.fit(X_treino, y_treino)\n",
        "y_pred_rf = rforest.predict(X_teste)"
      ]
    },
    {
      "cell_type": "code",
      "execution_count": 34,
      "id": "d5e7f538",
      "metadata": {
        "id": "d5e7f538",
        "outputId": "5b22422d-9dc4-4cef-bb93-47ee0b995250"
      },
      "outputs": [
        {
          "data": {
            "text/plain": [
              "<Axes: >"
            ]
          },
          "execution_count": 34,
          "metadata": {},
          "output_type": "execute_result"
        },
        {
          "data": {
            "image/png": "[encoded data removed]",
            "text/plain": [
              "<Figure size 1300x600 with 2 Axes>"
            ]
          },
          "metadata": {},
          "output_type": "display_data"
        }
      ],
      "source": [
        "# obtendo matriz de confusão para RForest\n",
        "cf_matrix = confusion_matrix(y_teste, y_pred_rf)\n",
        "group_names = [\"True Neg\",\"False Pos\",\"False Neg\",\"True Pos\"]\n",
        "group_counts = ['{0:0.0f}'.format(value) for value in cf_matrix.flatten()]\n",
        "labels = [f'{v1}\\n{v2}' for v1, v2 in zip(group_names,group_counts)]\n",
        "labels = np.asarray(labels).reshape(2,2)\n",
        "categories = [\"Não Cancelado\", \"Cancelado\"]\n",
        "sns.heatmap(cf_matrix, annot=labels, fmt='', cmap='YlGnBu')"
      ]
    },
    {
      "cell_type": "code",
      "execution_count": 35,
      "id": "bdd01a88",
      "metadata": {
        "id": "bdd01a88"
      },
      "outputs": [],
      "source": [
        "# Obtendo métricas para RF\n",
        "acuracia_rf = accuracy_score(y_teste, y_pred_rf)\n",
        "precision_rf = precision_score(y_teste, y_pred_rf)\n",
        "recall_rf = recall_score(y_teste, y_pred_rf)\n",
        "f1_rf = f1_score(y_teste, y_pred_rf)\n",
        "\n",
        "y_pred_treino_rf = rforest.predict(X_treino)\n",
        "acuracia_treino_rf = accuracy_score(y_treino, y_pred_treino_rf)"
      ]
    },
    {
      "cell_type": "markdown",
      "id": "7ca1bc8f",
      "metadata": {
        "id": "7ca1bc8f"
      },
      "source": [
        "# **Comparando os modelos**"
      ]
    },
    {
      "cell_type": "code",
      "execution_count": 36,
      "id": "d8a20e6f",
      "metadata": {
        "id": "d8a20e6f"
      },
      "outputs": [],
      "source": [
        "# juntando as métricas em listas\n",
        "acc = [acuracia_svc, acuracia_dt, acuracia_rf]\n",
        "precision = [precision_svc, precision_dt, precision_rf]\n",
        "recall = [recall_svc, recall_dt, recall_rf]\n",
        "f1 = [f1_svc, f1_dt, f1_rf]\n",
        "acc_treino = [acuracia_treino_svc, acuracia_treino_dt, acuracia_treino_rf]"
      ]
    },
    {
      "cell_type": "code",
      "execution_count": 37,
      "id": "5a1db12e",
      "metadata": {
        "id": "5a1db12e"
      },
      "outputs": [],
      "source": [
        "# criando um dataframe com as métricas para todos os modelos utilizados\n",
        "modelos = pd.DataFrame({'Modelo': ['SVC', 'Decision Tree', 'Random Forest'],  'Acurácia Treino': acc_treino,\n",
        "                          'Acurácia Teste': acc, 'Precisão': precision, 'Recall': recall, 'F1-Score': f1})"
      ]
    },
    {
      "cell_type": "code",
      "execution_count": 38,
      "id": "bf842dd6",
      "metadata": {
        "id": "bf842dd6",
        "outputId": "5a7f30be-1776-4919-d178-3f3ae18bf421"
      },
      "outputs": [
        {
          "data": {
            "text/html": [
              "<div>\n",
              "<style scoped>\n",
              "    .dataframe tbody tr th:only-of-type {\n",
              "        vertical-align: middle;\n",
              "    }\n",
              "\n",
              "    .dataframe tbody tr th {\n",
              "        vertical-align: top;\n",
              "    }\n",
              "\n",
              "    .dataframe thead th {\n",
              "        text-align: right;\n",
              "    }\n",
              "</style>\n",
              "<table border=\"1\" class=\"dataframe\">\n",
              "  <thead>\n",
              "    <tr style=\"text-align: right;\">\n",
              "      <th></th>\n",
              "      <th>Modelo</th>\n",
              "      <th>Acurácia Treino</th>\n",
              "      <th>Acurácia Teste</th>\n",
              "      <th>Precisão</th>\n",
              "      <th>Recall</th>\n",
              "      <th>F1-Score</th>\n",
              "    </tr>\n",
              "  </thead>\n",
              "  <tbody>\n",
              "    <tr>\n",
              "      <th>0</th>\n",
              "      <td>SVC</td>\n",
              "      <td>0.788906</td>\n",
              "      <td>0.791596</td>\n",
              "      <td>0.674157</td>\n",
              "      <td>0.391304</td>\n",
              "      <td>0.495186</td>\n",
              "    </tr>\n",
              "    <tr>\n",
              "      <th>1</th>\n",
              "      <td>Decision Tree</td>\n",
              "      <td>0.798183</td>\n",
              "      <td>0.800114</td>\n",
              "      <td>0.616379</td>\n",
              "      <td>0.621739</td>\n",
              "      <td>0.619048</td>\n",
              "    </tr>\n",
              "    <tr>\n",
              "      <th>2</th>\n",
              "      <td>Random Forest</td>\n",
              "      <td>0.803294</td>\n",
              "      <td>0.807496</td>\n",
              "      <td>0.705085</td>\n",
              "      <td>0.452174</td>\n",
              "      <td>0.550993</td>\n",
              "    </tr>\n",
              "  </tbody>\n",
              "</table>\n",
              "</div>"
            ],
            "text/plain": [
              "          Modelo  Acurácia Treino  Acurácia Teste  Precisão    Recall  \\\n",
              "0            SVC         0.788906        0.791596  0.674157  0.391304   \n",
              "1  Decision Tree         0.798183        0.800114  0.616379  0.621739   \n",
              "2  Random Forest         0.803294        0.807496  0.705085  0.452174   \n",
              "\n",
              "   F1-Score  \n",
              "0  0.495186  \n",
              "1  0.619048  \n",
              "2  0.550993  "
            ]
          },
          "execution_count": 38,
          "metadata": {},
          "output_type": "execute_result"
        }
      ],
      "source": [
        "modelos"
      ]
    },
    {
      "cell_type": "markdown",
      "id": "10a618f2",
      "metadata": {
        "id": "10a618f2"
      },
      "source": [
        "Ao analisar as métricas acima, podemos inferir que:\n",
        "* Não há diferença relevante na utilização de dados balanceados, visto que as métricas obtidas com dados desbalanceados foram semelhantes.\n",
        "* Todos os modelos apresentam acurácia relativamente próxima tanto nos dados de treino quanto nos de teste, sugerindo que não há grandes problemas de overfitting.\n",
        "* Como a precisão mede a proporção de instâncias classificadas como positivas que realmente são positivas. Nesse caso, o modelo Random Forest obteve a maior precisão.\n",
        "* O recall, ou chamado também de sensibilidade, mede a proporção de instâncias positivas que foram corretamente identificadas pelo modelo. Para essa métrica, o Decision Tree obteve o maior recall.\n",
        "* O F1-Score é uma métrica que considera tanto a precisão quanto o recall. Neste caso, o Decision Tree tem o maior F1-Score.\n",
        "\n",
        "Considerando essas métricas, não há um modelo claramente superior em todos os aspectos e a escolha do melhor modelo dependerá das prioridades específicas do problema. \n",
        "\n",
        "A avaliação das métricas deve considerar o contexto específico da aplicação e, portanto, se evitar falsos positivos for mais crítico, o Random Forest pode ser preferível. Se a identificação correta de instâncias positivas for mais importante, o Decision Tree pode ser uma escolha melhor.\n",
        "\n",
        "Entendendo que o objetivo do projeto é evitar o cancelamento dos serviços da Alura Voz, seria mais relevante identificar os clientes que irão cancelar, isto é, identificar as instâncias positivas. Neste caso, o modelo Decision Tree é o que apresenta melhor desempenho para essa tarefa."
      ]
    },
    {
      "cell_type": "markdown",
      "metadata": {},
      "source": []
    }
  ],
  "metadata": {
    "colab": {
      "include_colab_link": true,
      "name": "S3_Challenge.ipynb",
      "provenance": []
    },
    "kernelspec": {
      "display_name": "Python 3 (ipykernel)",
      "language": "python",
      "name": "python3"
    },
    "language_info": {
      "codemirror_mode": {
        "name": "ipython",
        "version": 3
      },
      "file_extension": ".py",
      "mimetype": "text/x-python",
      "name": "python",
      "nbconvert_exporter": "python",
      "pygments_lexer": "ipython3",
      "version": "3.8.15"
    }
  },
  "nbformat": 4,
  "nbformat_minor": 5
}
